{
 "cells": [
  {
   "cell_type": "code",
   "execution_count": null,
   "metadata": {},
   "outputs": [],
   "source": [
    "import os\n",
    "os.environ[\"JAX_PLATFORMS\"] = \"cpu\"  # Disable GPU for JAX (Remove if you want to use GPU)\n",
    "\n",
    "import numpy as np\n",
    "import matplotlib.pyplot as plt\n",
    "import random\n",
    "from tqdm.auto import tqdm, trange\n",
    "\n",
    "# deteministic random numbers\n",
    "np.random.seed(0)\n",
    "random.seed(0)"
   ]
  },
  {
   "cell_type": "markdown",
   "metadata": {},
   "source": [
    "# Linkage Synthesis Challenge Problem Advanced Code\n",
    "Here we will tackle the problem with a more complex GA approach. In this notebook, rather than just optimizing the node positions, we will also optimize the connectivity of the mechanims itself. First let's just load the target curves like we did before:\n"
   ]
  },
  {
   "cell_type": "code",
   "execution_count": null,
   "metadata": {},
   "outputs": [],
   "source": [
    "target_curves = np.load('target_curves.npy')\n",
    "\n",
    "# Plot all target curves\n",
    "\n",
    "# Initialize a 2x3 subplot for plotting all target curves\n",
    "fig, axs = plt.subplots(2, 3, figsize=(8, 5))\n",
    "\n",
    "# Loop through the 6 target curves to plot them\n",
    "for i in range(6):\n",
    "    # Extract x and y coordinates from the target curve\n",
    "    x_coords = np.array(target_curves[i])[:, 0]\n",
    "    y_coords = np.array(target_curves[i])[:, 1]\n",
    "\n",
    "    # Plot the curve on the respective subplot\n",
    "    axs[i // 3, i % 3].plot(x_coords, y_coords, color='black', linewidth=3)\n",
    "\n",
    "    # Set title for each subplot\n",
    "    axs[i // 3, i % 3].set_title(f'Egg {i + 1}')\n",
    "\n",
    "    # Ensure equal scaling for x and y axes\n",
    "    axs[i // 3, i % 3].axis('equal')\n",
    "    axs[i // 3, i % 3].axis('off')\n"
   ]
  },
  {
   "cell_type": "markdown",
   "metadata": {},
   "source": [
    "## GA Full Mechanism Generation\n",
    "To set up the problem within Pymoo we will have to come up with a 1D representation of the mechanisms. This code effectively just flattens the matrices and variables describing our mechanism into a single vector. However, this representation scheme is highly suboptimal, and can be improved significantly. As a demonstration, we will slightly improve upon this representation, though we encourage you to take this further. As we discussed, we can replace the edges with a connectivity matrrix. We also know the connectivity matrix is symmetric (if nodes 1 and 2 are connected nodes 2 and 1 are also connected) and has a diagonal equal to zero. To avoid making the optimization come up with the whole connectivity matrix, we will only have it come up with the upper triangular half of the matrix (not including the diagonal). This means the algorithm has to come up with $\\frac{N^2-N}{2}$ 0s or 1s (i.e., booleans) to construct the adjacency matrix. We can further simplify the process by selecting a fixed motor position and having the optimization build the rest of the mechanism, removing the need for the optimization to determine the motor as well as reducing the number of 0s and 1s in the upper triangular portion by one (Saving 3 parameters in the representation). To do this we will start with the following mechanism:\n",
    "\n",
    "<img src=\"https://i.ibb.co/mGywWgr/start.jpg\" alt=\"start\" border=\"0\">\n",
    "\n",
    "We set Node 0 to ground and Node 1 to be ordinary and the motor to be `[1,0]`. Now we know that the upper triangular portion of the connectivity matrix starts with:\n",
    "\n",
    "<img src=\"https://i.ibb.co/5RqKYQN/upper-triangular-fromstart.jpg\" alt=\"upper-triangular-fromstart\" border=\"0\">\n",
    "\n",
    "Since we know the types of the first two nodes, we save another two parameters from the optimization. At this point we will have the same representation as we have before, but with fewer numbers and no motor or N (size of mechanisms) as we generate the mechanism to have a certain size.\n",
    "\n",
    "<img src=\"https://i.ibb.co/gv2D0Y5/Optimization-Represenation.png\" alt=\"Optimization-Represenation\" border=\"0\">\n",
    "\n",
    "Now that we have a (slightly) improved 1D representation scheme, we will set up our problem with this many parameters. We also need to specify our constraints! Inequality constraints can be set in Pymoo (See: [constraints in pymoo](https://www.pymoo.org/constraints/index.html)) as less than or equal to zero constraints. We will set the two constraints on distance and material use in our problem.\n",
    "\n",
    "So based on this lets get started with defining the problem in Pymoo.\n",
    "<ul>\n",
    "    <li>\n",
    "        <code>__init__</code>: We need to differentiate between datatypes because crossover, sampling, and mutation will happen slightly differently based on datatype. As such, we create a dictionary of variables and specify which type of variable each one is.\n",
    "    </li>\n",
    "    <li>\n",
    "<code>convert_1D_to_mech</code>: Reformats our dictionary of variables into design info that our simulator uses (edges, x0, etc.). You will need to update this function if you change the way you parameterize mechanisms. IMPORTANT: This function should not be confused for the. We have also provided a function, <code> convert_mech_to_1D </code> to do the opposite, which you may find useful. It is currently unused and is commented out.\n",
    "    </li>\n",
    "    <li>\n",
    "<code>_evaluate</code>: Next, we define the evaluation function. We construct the mechanism using <code>convert_1D_to_mech</code>. Next, perform the same evaluations as we did in the starter notebook.\n",
    "    </li>\n",
    "</ul>"
   ]
  },
  {
   "cell_type": "code",
   "execution_count": null,
   "metadata": {},
   "outputs": [],
   "source": [
    "from pymoo.core.problem import ElementwiseProblem\n",
    "from pymoo.algorithms.moo.nsga2 import NSGA2\n",
    "from pymoo.core.variable import Real, Integer, Choice, Binary\n",
    "from pymoo.core.mixed import MixedVariableMating, MixedVariableGA, MixedVariableSampling, MixedVariableDuplicateElimination\n",
    "from pymoo.algorithms.moo.nsga2 import NSGA2\n",
    "from pymoo.operators.sampling.rnd import FloatRandomSampling, Sampling\n",
    "from pymoo.operators.crossover.sbx import SBX\n",
    "from pymoo.operators.mutation.pm import PolynomialMutation\n",
    "from pymoo.optimize import minimize\n",
    "\n",
    "from LINKS.Optimization import DifferentiableTools, Tools"
   ]
  },
  {
   "cell_type": "code",
   "execution_count": null,
   "metadata": {},
   "outputs": [],
   "source": [
    "PROBLEM_TOOLS = Tools( # we have to define this outside the class due to pymoo deepcopy limitations\n",
    "            device='cpu' # device to run the optimization on\n",
    "        )  \n",
    "PROBLEM_TOOLS.compile() # compile the functions for faster runs\n",
    "\n",
    "class mechanism_synthesis_optimization(ElementwiseProblem):\n",
    "\n",
    "    # When intializing, set the mechanism size and target curve\n",
    "    def __init__(self, target_curve, N = 5):\n",
    "        self.N = N\n",
    "        variables = dict()\n",
    "\n",
    "        # The upper triangular portion of our NxN Connectivity Matrix consists of Nx(N-1)/2 boolean variables:\n",
    "        for i in range(N):\n",
    "            for j in range(i):\n",
    "                variables[\"C\" + str(j) + \"_\" + str(i)] = Binary()\n",
    "\n",
    "        # We Delete C0_1 since we know node 1 is connected to the motor\n",
    "        del variables[\"C0_1\"]\n",
    "\n",
    "        #Our position matrix consists of Nx2 real numbers (cartesian coordinate values) between 0 and 1\n",
    "        for i in range(2*N):\n",
    "            variables[\"X0\" + str(i)] = Real(bounds=(0.0, 1.0))\n",
    "\n",
    "        # Our node type vector consists of N boolean variables (fixed vs non-fixed)\n",
    "        for i in range(N):\n",
    "            variables[\"fixed_nodes\" + str(i)] =  Binary(N)\n",
    "\n",
    "        # Our target node is an integer between 1 and N-1, (any except the motor node).\n",
    "        variables[\"target\"] = Integer(bounds=(1,N-1))\n",
    "\n",
    "        # Set up some variables in the problem class we inherit for pymoo\n",
    "        # n_obj=number of objectives, n_constr=number of constraints\n",
    "        # Our objectives are chamfer distance and material, and they both have constraints.\n",
    "        super().__init__(vars=variables, n_obj=2, n_constr=2)\n",
    "\n",
    "        # Store the target curve point cloud\n",
    "        self.target_curve = target_curve\n",
    "\n",
    "\n",
    "    def convert_1D_to_mech(self, x):\n",
    "        N = self.N\n",
    "\n",
    "        # Get target joints index\n",
    "        target_idx = x[\"target\"]\n",
    "\n",
    "        # Build connectivity matrix from its flattened constitutive variables\n",
    "        C = np.zeros((N,N))\n",
    "        x[\"C0_1\"] = 1\n",
    "\n",
    "        for i in range(N):\n",
    "            for j in range(i):\n",
    "                # C[i,j] = x[\"C\" + str(j) + \"_\" + str(i)]\n",
    "                C[j,i] = x[\"C\" + str(j) + \"_\" + str(i)]\n",
    "\n",
    "        edges = np.array(np.where(C==1)).T\n",
    "        \n",
    "        # Reshape flattened position matrix to its proper Nx2 shape\n",
    "        x0 = np.array([x[\"X0\" + str(i)] for i in range(2*N)]).reshape([N,2])\n",
    "\n",
    "        # Extract a list of Nodes that are fixed from boolean fixed_nodes vector\n",
    "        fixed_joints = np.where(np.array([x[\"fixed_nodes\" + str(i)] for i in range(N)]))[0].astype(int)\n",
    "\n",
    "        #We fix the motor and original ground node as 0 and 1 respectively in this implementation\n",
    "        motor=np.array([0,1])\n",
    "\n",
    "        return x0, edges, fixed_joints, motor, target_idx\n",
    "\n",
    "    def convert_mech_to_1D(self, x0, edges, fixed_joints, target_idx=None, **kwargs):\n",
    "        # This function assumes motor to be [0, 1] our random mechanism generator automatically does this\n",
    "        N = self.N\n",
    "\n",
    "        # Initialize dictionary to store 1D representation of mechanism\n",
    "        x = {}\n",
    "\n",
    "        # Store target node value\n",
    "        if target_idx is None:\n",
    "            target_idx = x0.shape[0]-1 # Assume last node is the target if not specified\n",
    "            \n",
    "        x[\"target\"] = target_idx\n",
    "\n",
    "        # Store connectivity matrix in its flattened form\n",
    "        C = np.zeros((N,N), dtype=bool)\n",
    "        C[edges[:,0], edges[:,1]] = 1\n",
    "        C[edges[:,1], edges[:,0]] = 1\n",
    "       \n",
    "        for i in range(N):\n",
    "            for j in range(i):\n",
    "                x[\"C\" + str(j) + \"_\" + str(i)] = C[i,j]\n",
    "\n",
    "        del x[\"C0_1\"]\n",
    "        \n",
    "        # Store position matrix in its flattened form\n",
    "        if x0.shape[0] != N:\n",
    "            x0 = np.pad(x0, ((0, N - x0.shape[0]), (0, 0)), 'constant', constant_values=0)\n",
    "            \n",
    "        for i in range(2*N):\n",
    "            x[\"X0\" + str(i)] = x0.flatten()[i]\n",
    "\n",
    "        # Store fixed nodes in boolean vector form\n",
    "        for i in range(N):\n",
    "            x[\"fixed_nodes\" + str(i)] = (i in fixed_joints) or (i>=N)\n",
    "\n",
    "        return x\n",
    "\n",
    "    def _evaluate(self, x, out, *args, **kwargs):\n",
    "        #Convert to mechanism representation\n",
    "        x0, edges, fixed_joints, motor, target_idx = self.convert_1D_to_mech(x)\n",
    "        \n",
    "        # Simulate\n",
    "        distance, material = PROBLEM_TOOLS(x0,\n",
    "                                edges,\n",
    "                                fixed_joints,\n",
    "                                motor,\n",
    "                                self.target_curve,\n",
    "                                target_idx=target_idx\n",
    "                            )\n",
    "\n",
    "        out[\"F\"] = np.array([distance, material])\n",
    "        out[\"G\"] = out[\"F\"] - np.array([0.75, 10.0])  # Constraints: distance <= 0.75, material <= 10.0\n"
   ]
  },
  {
   "cell_type": "markdown",
   "metadata": {},
   "source": [
    "Now let's try this with NSGA-II and one of the easier target curves. We will initialize with mechanisms with 6 nodes. You can test what happens if you increase this number. You should quickly discover that this naive parameterization does not perform well when initializing the GA with more complex mechanisms:"
   ]
  },
  {
   "cell_type": "code",
   "execution_count": null,
   "metadata": {},
   "outputs": [],
   "source": [
    "problem = mechanism_synthesis_optimization(target_curves[1], N=6)\n",
    "\n",
    "algorithm = NSGA2(pop_size=100,\n",
    "                  sampling=MixedVariableSampling(),\n",
    "                  mating=MixedVariableMating(eliminate_duplicates=MixedVariableDuplicateElimination()),\n",
    "                #   mutation=PolynomialMutation(prob=0.9),\n",
    "                  eliminate_duplicates=MixedVariableDuplicateElimination())\n",
    "\n",
    "results = minimize(problem,\n",
    "                algorithm,\n",
    "                ('n_gen', 100),\n",
    "                verbose=True,\n",
    "                save_history=True,\n",
    "                seed=0\n",
    "                )"
   ]
  },
  {
   "cell_type": "code",
   "execution_count": null,
   "metadata": {},
   "outputs": [],
   "source": [
    "if results.X is None:\n",
    "    print(\"No feasible solution found !!!!!\")"
   ]
  },
  {
   "cell_type": "markdown",
   "metadata": {},
   "source": [
    "You can see that if you just run GA you will not be able to find any good solutions, even for smaller mechanisms with 6 joints! \n",
    "\n",
    "In the starter notebook we gave you a mechanism to initialize GA with. Now we introduce the `MechanismRandomizer` class which can help you generate random mechanisms of any size you need. Let's see how this class works (The first time you run this it will be a little slow):"
   ]
  },
  {
   "cell_type": "code",
   "execution_count": null,
   "metadata": {},
   "outputs": [],
   "source": [
    "from LINKS.Optimization import MechanismRandomizer\n",
    "from LINKS.Visualization import MechanismVisualizer"
   ]
  },
  {
   "cell_type": "code",
   "execution_count": null,
   "metadata": {},
   "outputs": [],
   "source": [
    "randomizer = MechanismRandomizer(\n",
    "    min_size = 6, # smalllest mechanism to sample\n",
    "    max_size = 14, # largest mechanism to sample\n",
    "    device='cpu')\n",
    "\n",
    "visualizer = MechanismVisualizer()"
   ]
  },
  {
   "cell_type": "code",
   "execution_count": null,
   "metadata": {},
   "outputs": [],
   "source": [
    "random_mechanism = randomizer()\n",
    "\n",
    "# Let's see what the output looks like (it is exactly like the submission format)\n",
    "print(random_mechanism)"
   ]
  },
  {
   "cell_type": "code",
   "execution_count": null,
   "metadata": {},
   "outputs": [],
   "source": [
    "# Visualize the random mechanism\n",
    "visualizer(**random_mechanism)"
   ]
  },
  {
   "cell_type": "code",
   "execution_count": null,
   "metadata": {},
   "outputs": [],
   "source": [
    "# Now let's generate 100 mechanisms of size 7 and initilize a population for optimization\n",
    "mechanisms = [randomizer(n=7) for _ in trange(100)]"
   ]
  },
  {
   "cell_type": "code",
   "execution_count": null,
   "metadata": {},
   "outputs": [],
   "source": [
    "problem = mechanism_synthesis_optimization(target_curves[1], N=7)\n",
    "\n",
    "initial_population = [problem.convert_mech_to_1D(**mech) for mech in mechanisms]\n",
    "\n",
    "class sample_from_random(Sampling):\n",
    "        def _do(self, problem, n_samples, **kwargs):\n",
    "                return np.array([initial_population[i%len(initial_population)] for i in range(n_samples)])\n",
    "\n",
    "F = problem.evaluate(np.array(initial_population))[0]\n",
    "print(f'Best Distance Performance In random population: {F[:,0].min()}')\n",
    "print(f'Best Material Performance In random population: {F[:,1].min()}')"
   ]
  },
  {
   "cell_type": "code",
   "execution_count": null,
   "metadata": {},
   "outputs": [],
   "source": [
    "algorithm = NSGA2(pop_size=100,\n",
    "                  sampling=sample_from_random(),\n",
    "                  mating=MixedVariableMating(eliminate_duplicates=MixedVariableDuplicateElimination()),\n",
    "                  mutation=PolynomialMutation(prob=0.5),\n",
    "                  eliminate_duplicates=MixedVariableDuplicateElimination())\n",
    "\n",
    "results = minimize(problem,\n",
    "                algorithm,\n",
    "                ('n_gen', 100),\n",
    "                verbose=True,\n",
    "                save_history=True,\n",
    "                seed=123\n",
    "                )"
   ]
  },
  {
   "cell_type": "markdown",
   "metadata": {},
   "source": [
    "We see that if we initialize GA with some valid samples, it is much more likely to succeed! Let's take a look at the solutions of this run:"
   ]
  },
  {
   "cell_type": "code",
   "execution_count": null,
   "metadata": {},
   "outputs": [],
   "source": [
    "from LINKS.Visualization import GAVisualizer\n",
    "from LINKS.Kinematics import MechanismSolver\n",
    "from LINKS.Geometry import CurveEngine"
   ]
  },
  {
   "cell_type": "code",
   "execution_count": null,
   "metadata": {},
   "outputs": [],
   "source": [
    "from pymoo.indicators.hv import HV\n",
    "ga_visualizer = GAVisualizer()\n",
    "solver = MechanismSolver(device='cpu')\n",
    "curve_engine = CurveEngine(device='cpu')\n",
    "\n",
    "if not results.X is None:\n",
    "    #Specify reference point\n",
    "    ref_point = np.array([0.75, 10.0])\n",
    "\n",
    "    #Calculate Hypervolume\n",
    "    ind = HV(ref_point)\n",
    "    hypervolume = ind(results.F)\n",
    "\n",
    "    #Print and plot\n",
    "    print('Hyper Volume ~ %f' %(hypervolume))\n",
    "    ga_visualizer.plot_HV(results.F, ref_point, objective_labels=['Distance', 'Material']) #use the plot_HV function from utils\n",
    "else:\n",
    "    print('Did Not Find Solutions!!')"
   ]
  },
  {
   "cell_type": "markdown",
   "metadata": {},
   "source": [
    "Now Let's visualize the best solution for distance"
   ]
  },
  {
   "cell_type": "code",
   "execution_count": null,
   "metadata": {},
   "outputs": [],
   "source": [
    "if not results.X is None:\n",
    "    if type(results.X)!=dict:\n",
    "        best_idx = np.argmin(results.F[:,0])\n",
    "        best_sol, edges, fixed_joints, motor, target_idx  = problem.convert_1D_to_mech(results.X[best_idx])\n",
    "    else:\n",
    "        best_sol, edges, fixed_joints, motor, target_idx  = problem.convert_1D_to_mech(results.X)\n",
    "else:\n",
    "    print('Did Not Find Solutions!!')"
   ]
  },
  {
   "cell_type": "code",
   "execution_count": null,
   "metadata": {},
   "outputs": [],
   "source": [
    "plt.figure(figsize=(8,8))\n",
    "visualizer(best_sol, edges, fixed_joints, motor, highlight=target_idx, ax=plt.gca())\n",
    "\n",
    "traced_curve = solver(best_sol, edges, fixed_joints, motor)[target_idx]\n",
    "curve_engine.visualize_comparison(\n",
    "    traced_curve,\n",
    "    target_curves[1]\n",
    ")\n",
    "\n",
    "print(f'Distance: {results.F[best_idx,0]:.4f}, Material: {results.F[best_idx,1]:.4f}')"
   ]
  },
  {
   "cell_type": "markdown",
   "metadata": {},
   "source": [
    "Now Let's visualize the best solution for material"
   ]
  },
  {
   "cell_type": "code",
   "execution_count": null,
   "metadata": {},
   "outputs": [],
   "source": [
    "if not results.X is None:\n",
    "    if type(results.X)!=dict:\n",
    "        best_idx = np.argmin(results.F[:,1])\n",
    "        best_sol, edges, fixed_joints, motor, target_idx  = problem.convert_1D_to_mech(results.X[best_idx])\n",
    "    else:\n",
    "        best_sol, edges, fixed_joints, motor, target_idx  = problem.convert_1D_to_mech(results.X)\n",
    "else:\n",
    "    print('Did Not Find Solutions!!')"
   ]
  },
  {
   "cell_type": "code",
   "execution_count": null,
   "metadata": {},
   "outputs": [],
   "source": [
    "plt.figure(figsize=(8,8))\n",
    "visualizer(best_sol, edges, fixed_joints, motor, ax=plt.gca())\n",
    "\n",
    "traced_curve = solver(best_sol, edges, fixed_joints, motor)[target_idx]\n",
    "curve_engine.visualize_comparison(\n",
    "    traced_curve,\n",
    "    target_curves[1]\n",
    ")\n",
    "\n",
    "print(f'Distance: {results.F[best_idx,0]:.4f}, Material: {results.F[best_idx,1]:.4f}')"
   ]
  },
  {
   "cell_type": "markdown",
   "metadata": {},
   "source": [
    "You can use this population to make a submission:"
   ]
  },
  {
   "cell_type": "code",
   "execution_count": null,
   "metadata": {},
   "outputs": [],
   "source": [
    "from LINKS.CP import make_empty_submission, evaluate_submission\n",
    "\n",
    "submission = make_empty_submission()\n",
    "\n",
    "# add out population to submission\n",
    "if not results.X is None:\n",
    "    for i in range(results.X.shape[0]):\n",
    "        if not isinstance(results.X, dict):\n",
    "            x0_member, edges, fixed_joints, motor, target_idx  = problem.convert_1D_to_mech(results.X[i])\n",
    "        else:\n",
    "            x0_member, edges, fixed_joints, motor, target_idx  = problem.convert_1D_to_mech(results.X)\n",
    "        \n",
    "        mech = {\n",
    "            'x0': x0_member,\n",
    "            'edges': edges,\n",
    "            'fixed_joints': fixed_joints,\n",
    "            'motor': motor,\n",
    "            'target_joint': target_idx\n",
    "        }\n",
    "        \n",
    "        submission['Problem 2'].append(mech)"
   ]
  },
  {
   "cell_type": "code",
   "execution_count": null,
   "metadata": {},
   "outputs": [],
   "source": [
    "evaluate_submission(submission)"
   ]
  },
  {
   "cell_type": "markdown",
   "metadata": {},
   "source": [
    "You can see that GA is still not doing great with handling different mechanisms. You could adjust the initialization more, change mutation and cross-over functionality. So far however, we have not yet touched on gradient-based optimization. What if we took the solutions of GA and optimized for each of the objectives.\n",
    "\n",
    "Now let's take the GA solutions from above and just optimize for the lowest distance. Then we will add the optimized solutions to the population we have and see how the hypervolume changes.\n",
    "\n",
    " **Note that if the material use exceeds 10 during this optimization the score will not change How could you address this?** "
   ]
  },
  {
   "cell_type": "code",
   "execution_count": null,
   "metadata": {},
   "outputs": [],
   "source": [
    "from LINKS.Optimization import DifferentiableTools"
   ]
  },
  {
   "cell_type": "code",
   "execution_count": null,
   "metadata": {},
   "outputs": [],
   "source": [
    "differentiable_optimization_tools = DifferentiableTools(\n",
    "    device='cpu' # device to run the optimization on\n",
    ")  \n",
    "differentiable_optimization_tools.compile() # compile the functions for faster runs"
   ]
  },
  {
   "cell_type": "code",
   "execution_count": null,
   "metadata": {},
   "outputs": [],
   "source": [
    "# lets make a batch from our GA results\n",
    "x0s = []\n",
    "edges = []\n",
    "fixed_joints = []\n",
    "motors = []\n",
    "target_idxs = []\n",
    "if not results.X is None:\n",
    "    if not isinstance(results.X, dict):\n",
    "        for i in range(results.X.shape[0]):\n",
    "            x0_member, edges_member, fixed_joints_member, motor_member, target_idx_member  = problem.convert_1D_to_mech(results.X[i])\n",
    "            x0s.append(x0_member)\n",
    "            edges.append(edges_member)\n",
    "            fixed_joints.append(fixed_joints_member)\n",
    "            motors.append(motor_member)\n",
    "            target_idxs.append(target_idx_member)\n",
    "    else:\n",
    "        x0_member, edges_member, fixed_joints_member, motor_member, target_idx_member  = problem.convert_1D_to_mech(results.X)\n",
    "        x0s.append(x0_member)\n",
    "        edges.append(edges_member)\n",
    "        fixed_joints.append(fixed_joints_member)\n",
    "        motors.append(motor_member)\n",
    "        target_idxs.append(target_idx_member)"
   ]
  },
  {
   "cell_type": "markdown",
   "metadata": {},
   "source": [
    "here is how this differentiable class works:"
   ]
  },
  {
   "cell_type": "code",
   "execution_count": null,
   "metadata": {},
   "outputs": [],
   "source": [
    "distances, materials, distance_grads, material_grads = differentiable_optimization_tools(\n",
    "    x0s,\n",
    "    edges,\n",
    "    fixed_joints,\n",
    "    motors,\n",
    "    target_curves[1],\n",
    "    target_idxs\n",
    ")\n",
    "\n",
    "print(materials, distances)"
   ]
  },
  {
   "cell_type": "markdown",
   "metadata": {},
   "source": [
    "**NOTE:** Sometimes the mechanisms are close to locking, which results in gradients exploding and in these cases the `DifferentiableTools` will return inifity results. You can ignore these since the `Tools` class will still simulate them eventhough the gradients are near singular."
   ]
  },
  {
   "cell_type": "code",
   "execution_count": null,
   "metadata": {},
   "outputs": [],
   "source": [
    "x = x0s.copy()\n",
    "\n",
    "step_size = 4e-4\n",
    "n_steps = 1000\n",
    "\n",
    "# keep track of which members are done optimizing\n",
    "done_optimizing = np.zeros(len(x), dtype=bool)\n",
    "\n",
    "x_last = x.copy()\n",
    "\n",
    "for step in trange(n_steps):\n",
    "    \n",
    "    # get current distances, materials and gradients\n",
    "    distances, materials, distance_grads, material_grads = differentiable_optimization_tools(\n",
    "        x,\n",
    "        edges,\n",
    "        fixed_joints,\n",
    "        motors,\n",
    "        target_curves[1],\n",
    "        target_idxs\n",
    "    )\n",
    "    \n",
    "    # only update members that are valid and not done optimizing\n",
    "    valids = np.where(np.logical_and(distances <= 0.75, materials <= 10.0))[0]\n",
    "    invalids = np.where(~np.logical_and(distances <= 0.75, materials <= 10.0))[0]\n",
    "    \n",
    "    # if a member is invalid, revert to last step and mark as done optimizing\n",
    "    for i in invalids:\n",
    "        done_optimizing[i] = True\n",
    "        x[i] = x_last[i]\n",
    "    \n",
    "    # keep a copy of last step\n",
    "    x_last = x.copy()\n",
    "    \n",
    "    # update valid members\n",
    "    for i in valids:\n",
    "        if done_optimizing[i]:\n",
    "            continue\n",
    "        x[i] = x[i] - step_size * distance_grads[i]\n",
    "        \n",
    "    if np.all(done_optimizing):\n",
    "        print(f'All members are done optimizing at step {step}')\n",
    "        break"
   ]
  },
  {
   "cell_type": "markdown",
   "metadata": {},
   "source": [
    "Now we can combine these new memebers with the old and see how the hypervolume changes:"
   ]
  },
  {
   "cell_type": "code",
   "execution_count": null,
   "metadata": {},
   "outputs": [],
   "source": [
    "combined_x0s = x0s + x\n",
    "combined_edges = edges + edges\n",
    "combined_fixed_joints = fixed_joints + fixed_joints\n",
    "combined_motors = motors + motors\n",
    "combined_target_idxs = target_idxs + target_idxs\n",
    "\n",
    "F = np.array(\n",
    "    PROBLEM_TOOLS(\n",
    "        combined_x0s,\n",
    "        combined_edges,\n",
    "        combined_fixed_joints,\n",
    "        combined_motors,\n",
    "        target_curves[1],\n",
    "        combined_target_idxs\n",
    "    )).T\n",
    "\n",
    "F_before = np.array(\n",
    "    PROBLEM_TOOLS(\n",
    "        x0s,\n",
    "        edges,\n",
    "        fixed_joints,\n",
    "        motors,\n",
    "        target_curves[1],\n",
    "        target_idxs\n",
    "    )).T\n",
    "\n",
    "ref = np.array([0.75, 10.0])\n",
    "ind = HV(ref)\n",
    "\n",
    "hv_before = ind(F_before)\n",
    "hv_after = ind(F)\n",
    "\n",
    "print(f'Hypervolume before gradient optimization: {hv_before:.4f}, after optimization: {hv_after:.4f}')"
   ]
  },
  {
   "cell_type": "code",
   "execution_count": null,
   "metadata": {},
   "outputs": [],
   "source": [
    "plt.subplots(1, 2, figsize=(12, 6))\n",
    "plt.subplot(1, 2, 1)\n",
    "plt.title('Before Gradient Optimization')\n",
    "ga_visualizer.plot_HV(F_before, ref, objective_labels=['Distance', 'Material'], ax=plt.gca())\n",
    "\n",
    "plt.subplot(1, 2, 2)\n",
    "plt.title('After Gradient Optimization')\n",
    "ga_visualizer.plot_HV(F, ref, objective_labels=['Distance', 'Material'], ax=plt.gca())"
   ]
  },
  {
   "cell_type": "markdown",
   "metadata": {},
   "source": [
    "A small improvement. But this is just to give you an idea of what you can do when mixing optimization methods.\n",
    "\n",
    "Now you should have a good idea of how to use the tools we have provided to you. Think about how you can improve each aspect of the optimization to achieve a higher score in you final submission. You are allowed also submit your teams best solutions to the leaderboard which we will announce soon and see how well you are doing compared other teams."
   ]
  },
  {
   "cell_type": "markdown",
   "metadata": {},
   "source": [
    "A few hints and ideas:\n",
    "- Why not do some preprocessing to random mechanisms before running GA?\n",
    "- Can you use the gradients of both functions in gradient based optimization? \n",
    "- Can you cycle through multiple optimization runs?\n",
    "- Can you mix different kinds of GA? We showed how GA can be used for a single mechanism skeleton and how it can be used to also create the mechanisms?\n",
    "- Can you modify the GA mutations and cross-over?\n",
    "- Is there a more efficient representation of mechanisms we can use?\n",
    "- Are there smarter gradient-based optimization methods?"
   ]
  },
  {
   "cell_type": "markdown",
   "metadata": {},
   "source": [
    "# Appendix and Details\n",
    "\n",
    "## Curve Distance Calculation\n",
    "\n",
    "The target curves are provided to you as a sequence of points. The curves your mechanisms generate are then re-oriented compared to the target curves as we showed above. We measure the closeness of two point curves by computing the distance between the two curves with optimal alignment. This distance can be mathematically represented as:\n",
    "\n",
    "$$\n",
    "d_{OD}=\\frac{2 \\pi}{N}\\min_{o_1 \\in O_1, \\alpha \\in [0,2\\pi)} \\sum_{i=1}^N\\left\\|N(\\mathbf{X}^{\\text{coupler}}_{o_1(i)})\\mathbf{R}(\\alpha)-N(\\mathbf{X}^{\\text{target}})\\right\\|^2,\n",
    "$$\n",
    "\n",
    "$$\\operatorname{N}(\\mathbf{X})=\\frac{\\mathbf{X}- \\overline{\\mathbf{X}}}{\\sqrt{\\frac{\\sum_{i=1}^N\\|\\mathbf{X}_i-\\overline{\\mathbf{X}}\\|_2^2}{N}}}$$\n",
    "\n",
    "Where $\\mathbf{X}^{\\text{coupler}}$ is the curve traced by the mechanism and $\\mathbf{X}^{\\text{target}}$ is the target curve and  $O_1$ is the set of all possible clockwise and counterclockwise orderings of a curve with $N$ ordered points and $\\mathbf{R}(\\alpha)$ is a $2\\times2$ rotation matrix for angle $\\alpha$, while $o_1(i)$ refers to the index of the $i$-th point in the set $o_1$. In practice, in our problem we may ignore the denominator in $N$ since we do not want to optimally rescale curves. The code we provide solves this optimization problem and retuns the distance value so you don't have to worry about this.\n",
    "\n",
    "The other objective in this challenge problem is reducing the material used by the mechanism. This is the total length of all links in the mechanism. We have provided a function that makes this measurement for you using initial positions and adjacency matrix for a mechanism (The functions and useful tools are going to be described later)."
   ]
  },
  {
   "cell_type": "markdown",
   "metadata": {},
   "source": [
    "### A Note On Scale Normalization"
   ]
  },
  {
   "cell_type": "markdown",
   "metadata": {},
   "source": [
    "The functions that we saw in the starter notebool on curves, namely `compare_curves` and `visualize_comparison`, and `visualize_alignment` have a scaling option. An important input to the `CurveEngine` class is `normalize_scale`, which if set to `True` will rescale curves when comparing. In our problem we want this to be `False` since we care about the scale and material used in the problem. (We stress this distinction because the first component of the optimization demo had this rescaling turned on!)"
   ]
  },
  {
   "cell_type": "code",
   "execution_count": null,
   "metadata": {},
   "outputs": [],
   "source": [
    "curve_processor = CurveEngine(\n",
    "    normalize_scale=True, # whether to normalize the curve's scale (This would mean we do not care about the size of the curve but we do!)\n",
    "    device='cpu' # device to run the processing on\n",
    ")\n",
    "\n",
    "curve_processor_unscaled = CurveEngine(\n",
    "    normalize_scale=False, # do not normalize the scale of the curve (This would mean we care about the size of the curve too!)\n",
    "    device='cpu'\n",
    ")"
   ]
  },
  {
   "cell_type": "markdown",
   "metadata": {},
   "source": [
    "Let's go back to the simple fourbar we had and see what this means:"
   ]
  },
  {
   "cell_type": "code",
   "execution_count": null,
   "metadata": {},
   "outputs": [],
   "source": [
    "visualizer = MechanismVisualizer()\n",
    "\n",
    "# Define the variables for the mechanism\n",
    "x0 = np.array([[0.3,0.2],\n",
    "               [0.6,0.2],\n",
    "               [0.3,0.3],\n",
    "               [0.6,0.4],\n",
    "               [0.4,0.5]])\n",
    "\n",
    "# Define the connectivity of the mechanism\n",
    "edges = np.array([[0,2],\n",
    "                  [1,3],\n",
    "                  [2,3],\n",
    "                  [2,4],\n",
    "                  [3,4]])\n",
    "\n",
    "# Define the fixed nodes\n",
    "fixed_joints = np.array([0,1])\n",
    "\n",
    "# actuator\n",
    "motor = np.array([0,2])\n",
    "\n",
    "plt.figure(figsize=(5,5))\n",
    "visualizer(x0, edges, fixed_joints, motor, ax=plt.gca())"
   ]
  },
  {
   "cell_type": "code",
   "execution_count": null,
   "metadata": {},
   "outputs": [],
   "source": [
    "solver = MechanismSolver(\n",
    "    device = 'cpu' # device to run the simulation on (cpu or gpu)\n",
    ")\n",
    "\n",
    "solution = solver(x0, edges, fixed_joints, motor)\n",
    "traced_curve = solution[4]"
   ]
  },
  {
   "cell_type": "code",
   "execution_count": null,
   "metadata": {},
   "outputs": [],
   "source": [
    "# lets compare to the first target curve\n",
    "distance = curve_processor.compare_curves(traced_curve, target_curves[0])\n",
    "unscaled_distance = curve_processor_unscaled.compare_curves(traced_curve, target_curves[0])\n",
    "\n",
    "print(f\"The scale normalized distance to target curve 1 is: {distance:.4f}\")\n",
    "print(f\"The unnormalized distance to target curve 1 is: {unscaled_distance:.4f}\") # This will be higher since do not normalize scale"
   ]
  },
  {
   "cell_type": "markdown",
   "metadata": {},
   "source": [
    "Now let's visualize the alignment process with and without scale to understand what is going on:"
   ]
  },
  {
   "cell_type": "code",
   "execution_count": null,
   "metadata": {},
   "outputs": [],
   "source": [
    "curve_processor.visualize_alignment(traced_curve, target_curves[0])\n",
    "curve_processor.visualize_comparison(traced_curve, target_curves[0])"
   ]
  },
  {
   "cell_type": "code",
   "execution_count": null,
   "metadata": {},
   "outputs": [],
   "source": [
    "curve_processor_unscaled.visualize_alignment(traced_curve, target_curves[0])\n",
    "curve_processor_unscaled.visualize_comparison(traced_curve, target_curves[0])"
   ]
  }
 ],
 "metadata": {
  "kernelspec": {
   "display_name": "CP1",
   "language": "python",
   "name": "python3"
  },
  "language_info": {
   "codemirror_mode": {
    "name": "ipython",
    "version": 3
   },
   "file_extension": ".py",
   "mimetype": "text/x-python",
   "name": "python",
   "nbconvert_exporter": "python",
   "pygments_lexer": "ipython3",
   "version": "3.10.18"
  }
 },
 "nbformat": 4,
 "nbformat_minor": 2
}
