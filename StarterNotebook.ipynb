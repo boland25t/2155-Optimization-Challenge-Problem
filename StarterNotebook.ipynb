{
 "cells": [
  {
   "cell_type": "markdown",
   "id": "55516fdc",
   "metadata": {},
   "source": [
    "# Sunny Side Sketch Challenge Problem\n",
    "\n",
    "\n",
    "Once upon a time, an ambitious engineer was tasked with inventing an “egg-maker” — a marvelous machine that could whip up eggs in all their delicious forms: fried, scrambled, poached, you name it. But somewhere along the way, wires got crossed (literally), and instead of producing eggs, the machine started… drawing them. Perfectly neat outlines of every egg recipe you could imagine appeared on paper, but not a single breakfast was served.\n",
    "And so, the legend of the “Egg-Maker-That-Only-Makes-Egg-DRAWINGS” was born.\n",
    "\n",
    "Your task: Design 2D planar linkage mechanisms that can trace six target egg-paths. These curves are your recipes — now go cook up some mechanisms!\n",
    "\n"
   ]
  },
  {
   "cell_type": "code",
   "execution_count": null,
   "id": "d35ff2de",
   "metadata": {},
   "outputs": [],
   "source": [
    "import os\n",
    "os.environ[\"JAX_PLATFORMS\"] = \"cpu\"  # Disable GPU for JAX (Remove if you want to use GPU)\n",
    "\n",
    "import numpy as np\n",
    "import matplotlib.pyplot as plt\n",
    "import random\n",
    "\n",
    "# deteministic random numbers\n",
    "np.random.seed(0)\n",
    "random.seed(0)"
   ]
  },
  {
   "cell_type": "markdown",
   "id": "21bd623d",
   "metadata": {},
   "source": [
    "We have given you the outlines of eggs we want in a numpy file called `target_curves.npy` which you can load using numpy and plot using matplotlib:"
   ]
  },
  {
   "cell_type": "code",
   "execution_count": null,
   "id": "12d02127",
   "metadata": {},
   "outputs": [],
   "source": [
    "target_curves = np.load('target_curves.npy')\n",
    "\n",
    "# Plot all target curves\n",
    "\n",
    "# Initialize a 2x3 subplot for plotting all target curves\n",
    "fig, axs = plt.subplots(2, 3, figsize=(8, 5))\n",
    "\n",
    "# Loop through the 6 target curves to plot them\n",
    "for i in range(6):\n",
    "    # Extract x and y coordinates from the target curve\n",
    "    x_coords = np.array(target_curves[i])[:, 0]\n",
    "    y_coords = np.array(target_curves[i])[:, 1]\n",
    "\n",
    "    # Plot the curve on the respective subplot\n",
    "    axs[i // 3, i % 3].plot(x_coords, y_coords, color='black', linewidth=3)\n",
    "\n",
    "    # Set title for each subplot\n",
    "    axs[i // 3, i % 3].set_title(f'Egg {i + 1}')\n",
    "\n",
    "    # Ensure equal scaling for x and y axes\n",
    "    axs[i // 3, i % 3].axis('equal')\n",
    "    axs[i // 3, i % 3].axis('off')"
   ]
  },
  {
   "cell_type": "markdown",
   "id": "ad264945",
   "metadata": {},
   "source": [
    "<font color=\"red\" size=\"8\"><b>WARNING: </b></font> If you plan to work on this notebook in colab we would like to warn you that if you do not download any files you save or save the changes separately, upon the runtime being killed either by you closing the tab/browser or by timing out due to inactivity you WILL LOSE YOUR FILES AND WORK. It is highly recommeneded that you make a local python environment to work."
   ]
  },
  {
   "cell_type": "markdown",
   "id": "a3360cad",
   "metadata": {},
   "source": [
    "## Overview\n",
    "The first portion of this notebook will help you understand the linkage design problem and the way we parameterize each linkage design. It will also discuss deliverables and submission instructions. In the second half of this notebook we provide you with a working implementation that you can use as a baseline. \n",
    "\n",
    "**IMPORTANT:** We also provide numerous helper functions in the linkage_utils. We touch on most of these functions in this notebook but some *very useful* functions will be covered in the advanced notebook!\n",
    "\n",
    "### Project Files and Functions Provided:\n",
    "\n",
    "All files as well as helper functions and further information can be found in the Github repository of this challenge problem:\n",
    "[Github Repo](https://github.com/ahnobari/2155-Optimization-Challenge-Problem)\n",
    "\n",
    "### The Optimization Problem\n",
    "<div width=\"100%\"><img src=\"https://i.imgur.com/69xDuZc.png\" alt=\"Path Synthesis Problem\" width=\"60%\" style=\"margin:auto;display:block\"></div>\n",
    "\n",
    "The problem we try to solve in this challenge problem is similar to the one in the optimization demo. The goal in this problem is to design a linkage mechanism that can trace a target curve. In addition to this we also want to minimize material usage. We will discuss the full problem later in the notebook but before we get to that, let us review how we represented linkage mechanisms computationally.\n"
   ]
  },
  {
   "cell_type": "markdown",
   "id": "20ceb151",
   "metadata": {},
   "source": [
    "### Mechanism Representation\n",
    "Here we will briefly discuss how we can represent linkage mechanisms. In this demonstration we will represent linkage mechanisms as graphs. A graph is represented as a set of nodes (e.g., $N = \\{1,2,3,\\ldots,N\\}$), and set of edges, that describe how nodes are connected to each other (e.g., $E=\\{(1,2), (5,2), \\ldots \\}$). Graphs can also include features associated with each node (e.g., initial positions of joints in our example of mechanisms).\n",
    "\n",
    "To see how this works take the mechanism below:\n",
    "\n",
    "<div width=\"100%\"><img src=\"https://i.ibb.co/qsPC0gC/2021-09-13-0hl-Kleki.png\" alt=\"Path Synthesis Problem\" width=\"40%\" style=\"margin:auto;display:block\"></div>\n",
    "\n",
    "\n",
    "We can see that we have 5 joints, which we will represent as 5 nodes, $N=\\{0,1,2,3,4\\}$, and we can represent the linkages as edges in the graph, which give us the edges $E=\\{(0,2),(1,3),(2,3),(2,4),(3,4)\\}$. Note that edges in this graph do not have directions so $(0,2)$ and $(2,0)$ are identical. To keep things neat so we put the smaller index first. Besides the basic graph describing the mechanisms structure, we also see that all nodes have an initial position in 2D space. Nodes $0$ and $1$ are fixed and will remain in place, while the others will move. We will describe these as node features. This means each node will have a 2D initial position and a binary feature describing whether it is fixed or not. We can also see that one of the linkages is highlighed yellow. This is the linkage that is rotated by the actuator. We will also store this information.\n",
    "\n",
    "In practice the above description boils down to a few (Design) variables in python which we use to describe the mechanism:\n",
    "\n",
    "- **Initial Positions** `x0`: A 2D array of size $N \\times 2$, holding the initial positions of the $N$ joints in the mechanism.\n",
    "- **Linkages** `edges`: A 2D array of ***integer*** pairs, with shape $E \\times 2$ holding the pairs of node indecies from two nodes that are connected to each other by an edge.\n",
    "- **Fixed Joints** `fixed_joints`: A list of node indices that are fixed.\n",
    "- **Motor** `motor`: A tuple of integers, which is equivalent to the pair of node indices associated with the actuated edge.\n",
    "\n",
    "This representation is fine, however sometimes instead of explicitly specifying edges a different approach is used to describe graph connectivity. The so called <b>Adjacency/Connectivity Matrix</b> is another way to represent the edges of a graph. A linkage mechanisms structure can therefore be represented using a matrix of connectivity ($C$), which is similar to the adjacency matrix in graphs (networks). The connectivity matrix for a mechanisms with $N$ nodes is a symmetric $N\\times N$ matrix with each row and column representing each node and its connections to other nodes. Take the example below:\n",
    "\n",
    "<img src=\"https://transportgeography.org/wp-content/uploads/simple_connectivity_matrix2.png\" width=\"100%\" style=\"max-width: 700px; display:block; margin:auto;\" alt=\"Connectivity Matrix\">\n",
    "\n",
    "For Node A we use the first row/column of the matrix and we see that A is connected to B (which is represented by the second row/column). To represent this connection in the connectivity matrix we will set the value of the $(1,2)$ and $(2,1)$ elements of the matrix to be 1. Similarly any time any nodes $i$ and $j$ are connected with an edge we set the value of the $(i,j)$ and $(j,i)$ elements to be 1 and 0 if the nodes are not connected. We will use this kind of representation in the advanced starter notebook to show how this can help us define a problem for GA that generates the structure of the mechanism as well."
   ]
  },
  {
   "cell_type": "markdown",
   "id": "f24a598c",
   "metadata": {},
   "source": [
    "### Visualizing Mechanisms\n",
    "In the code base we provide a `MechanismVisualizer` class which you can use to visualize mechanisms. Let's define a four-bar mechanism below and visualize it using this class."
   ]
  },
  {
   "cell_type": "code",
   "execution_count": null,
   "id": "4aa33174",
   "metadata": {},
   "outputs": [],
   "source": [
    "from LINKS.Visualization import MechanismVisualizer"
   ]
  },
  {
   "cell_type": "markdown",
   "id": "2bd7372e",
   "metadata": {},
   "source": [
    "To use this, first create an instance of the visualizer, then call this instance with your mechanisms representation. Below is an example:"
   ]
  },
  {
   "cell_type": "code",
   "execution_count": null,
   "id": "8a6660df",
   "metadata": {},
   "outputs": [],
   "source": [
    "visualizer = MechanismVisualizer()\n",
    "\n",
    "# Define the variables for the mechanism\n",
    "x0 = np.array([[0.3,0.2],\n",
    "               [0.6,0.2],\n",
    "               [0.3,0.3],\n",
    "               [0.6,0.4],\n",
    "               [0.4,0.5]])\n",
    "\n",
    "# Define the connectivity of the mechanism\n",
    "edges = np.array([[0,2],\n",
    "                  [1,3],\n",
    "                  [2,3],\n",
    "                  [2,4],\n",
    "                  [3,4]])\n",
    "\n",
    "# Define the fixed nodes\n",
    "fixed_joints = np.array([0,1])\n",
    "\n",
    "# actuator\n",
    "motor = np.array([0,2])\n",
    "\n",
    "plt.figure(figsize=(5,5))\n",
    "visualizer(x0, edges, fixed_joints, motor, ax=plt.gca())"
   ]
  },
  {
   "cell_type": "markdown",
   "id": "ce2eae5d",
   "metadata": {},
   "source": [
    "The `MechanismVisualizer` class will solve the mechanism everytime. But if we want to access the full simulations of the mechanisms we will need to use another class, the `MechanismSolver` class. Below is an example of this:"
   ]
  },
  {
   "cell_type": "code",
   "execution_count": null,
   "id": "48c72cb9",
   "metadata": {},
   "outputs": [],
   "source": [
    "from LINKS.Kinematics import MechanismSolver"
   ]
  },
  {
   "cell_type": "code",
   "execution_count": null,
   "id": "65454a15",
   "metadata": {},
   "outputs": [],
   "source": [
    "solver = MechanismSolver(\n",
    "    device = 'cpu' # device to run the simulation on (cpu or gpu)\n",
    ")\n",
    "\n",
    "solution = solver(x0, edges, fixed_joints, motor)\n",
    "\n",
    "print(\"The shape of the solution is:\", solution.shape)  # Should be (num_joints, timesteps, 2)"
   ]
  },
  {
   "cell_type": "markdown",
   "id": "ed7b2529",
   "metadata": {},
   "source": [
    "We can grab joint 4's solution and visualize it:"
   ]
  },
  {
   "cell_type": "code",
   "execution_count": null,
   "id": "7de3801d",
   "metadata": {},
   "outputs": [],
   "source": [
    "# the target joints solution\n",
    "traced_curve = solution[4]  # Joint 4's trajectory over time\n",
    "\n",
    "plt.figure(figsize=(5,5))\n",
    "plt.plot(traced_curve[:,0], traced_curve[:,1])\n",
    "plt.axis('equal')\n",
    "plt.title(\"Joint 4's Traced Curve\")\n",
    "plt.axis('off')\n",
    "plt.show()"
   ]
  },
  {
   "cell_type": "markdown",
   "id": "5fd38537",
   "metadata": {},
   "source": [
    "Now that we have a traced curve, how do we compare with the target curve? To do this we provide another class called `CurveEngine` which has some useful functions which you can use to do this."
   ]
  },
  {
   "cell_type": "code",
   "execution_count": null,
   "id": "0b8630f1",
   "metadata": {},
   "outputs": [],
   "source": [
    "from LINKS.Geometry import CurveEngine"
   ]
  },
  {
   "cell_type": "markdown",
   "id": "a41a75ec",
   "metadata": {},
   "source": [
    "The functions that we most case about are the `compare_curves` and `visualize_comparison`, and `visualize_alignment`."
   ]
  },
  {
   "cell_type": "code",
   "execution_count": null,
   "id": "d5707808",
   "metadata": {},
   "outputs": [],
   "source": [
    "curve_processor = CurveEngine(\n",
    "    normalize_scale=False, # do not normalize the scale of the curve (This would mean we care about the size of the curve too!)\n",
    "    device='cpu'\n",
    ")"
   ]
  },
  {
   "cell_type": "markdown",
   "id": "1b6c8cb8",
   "metadata": {},
   "source": [
    "Now let's visualize the alignment process:"
   ]
  },
  {
   "cell_type": "code",
   "execution_count": null,
   "id": "7c0c8ac4",
   "metadata": {},
   "outputs": [],
   "source": [
    "curve_processor.visualize_alignment(traced_curve, target_curves[0])\n",
    "curve_processor.visualize_comparison(traced_curve, target_curves[0])"
   ]
  },
  {
   "cell_type": "markdown",
   "id": "365d5fcc",
   "metadata": {},
   "source": [
    "Note that the visualizations and calculations can be done for a batch of inputs as well:"
   ]
  },
  {
   "cell_type": "code",
   "execution_count": null,
   "id": "28d1a4b6",
   "metadata": {},
   "outputs": [],
   "source": [
    "distances = curve_processor.compare_curves(\n",
    "            traced_curve[None].repeat(target_curves.shape[0], axis=0), # repeat the traced curve for each target curve\n",
    "            target_curves)\n",
    "\n",
    "print(\"Distances to all target curves:\", distances)"
   ]
  },
  {
   "cell_type": "code",
   "execution_count": null,
   "id": "6f03e3a1",
   "metadata": {},
   "outputs": [],
   "source": [
    "curve_processor.visualize_comparison(\n",
    "            traced_curve[None].repeat(target_curves.shape[0], axis=0), # repeat the traced curve for each target curve\n",
    "            target_curves)"
   ]
  },
  {
   "cell_type": "markdown",
   "id": "a737ae7a",
   "metadata": {},
   "source": [
    "Details on the curve distance calculation can be found at the end of the advanced starter notebook."
   ]
  },
  {
   "cell_type": "markdown",
   "id": "6f2c13b0",
   "metadata": {},
   "source": [
    "## Instructions\n",
    "\n",
    "\n",
    "[IMPORTANT] In this project three constraints are set for you:\n",
    "<ul>\n",
    "    <li><b>Distance: </b>Any mechanisms output with a distance to the target curve larger than 0.75 will be considered invalid and will not be used to calculate the score of the submissions.</li>\n",
    "    <li><b>Material Use: </b>Any mechanism with total linkage lengths more than 10.0 will be deemed invalid and will not be used to calculate the score of the submissions.</li>\n",
    "    <li><b>Mechanism Complexity: </b>For this project we want you to generate mechanisms with no more than 20 joints </li>\n",
    "</ul>\n",
    "\n",
    "Submitted mechanisms that violate these constraints will not be scored.\n",
    "\n",
    "Your performance on the targets will be measured based on the hypervolume calculated from the population with a reference point of 0.75 for distance and 10.0 for material use. Note that we limit the number of mechanisms you are permitted to submit as potential solutions for any given curve to 1000. The closer you get to ideal the higher the score you will receive. The total score for your submission will be the average hypervolume for all target curves."
   ]
  },
  {
   "cell_type": "markdown",
   "id": "ccca637f",
   "metadata": {},
   "source": [
    "## Starter Code: Setting up Multi-Objective Optimization With Constraints Using Pymoo\n",
    "\n",
    "Now that we have established the details to the project lets set up the problem in Pymoo and run an example. Here we will also discuss how your submissions are going to be evaluated to get your final score. Before that, we will introduce a possible approaches for solving this problem. We will use a GA optimizer availabe through the pymoo package. This approach will be a simple approach to only optimize the positions of a given mechanism (We provide this) and the more comprehensive aproach will be one of allowing the GA to generate the full structure of mechanisms which is discussed in the advanced notebook and not here."
   ]
  },
  {
   "cell_type": "markdown",
   "id": "e013e624",
   "metadata": {},
   "source": [
    "For this example we provide you with a mechanism structure to use. A bit more complex than the four-bar above to have a better chance at meeting our constraints. This mechanism is in a file called '`starter_mechanism.npy`'. Let's see what this looks like:"
   ]
  },
  {
   "cell_type": "code",
   "execution_count": null,
   "id": "f9017ea4",
   "metadata": {},
   "outputs": [],
   "source": [
    "starter_mech = np.load('starter_mechanism.npy',allow_pickle=True).item() #Load mechanism\n",
    "\n",
    "x0 = starter_mech['x0']\n",
    "edges = starter_mech['edges']\n",
    "fixed_joints = starter_mech['fixed_joints']\n",
    "motor = starter_mech['motor']\n",
    "\n",
    "plt.figure(figsize=(8,8))\n",
    "visualizer(x0, edges, fixed_joints, motor, ax=plt.gca())"
   ]
  },
  {
   "cell_type": "markdown",
   "id": "fd83421f",
   "metadata": {},
   "source": [
    "Besides this starter mechanism, we provide two additional classes called `DifferentiableTools` and `Tools`, which provide you with helpful optimization for this problem. As the names suggest the `DifferentiableTools` provides gradients, if you wish to use gradient based optimization and `Tools` will simply provide the values for the objective functions. Both methods have a `compile` function which will compile the functions for faster and more efficient runs. if you use compile the first run will be slow but then the subsequent runs will speed up. Let's see how they work:"
   ]
  },
  {
   "cell_type": "code",
   "execution_count": null,
   "id": "c48d0ccb",
   "metadata": {},
   "outputs": [],
   "source": [
    "from LINKS.Optimization import DifferentiableTools, Tools"
   ]
  },
  {
   "cell_type": "code",
   "execution_count": null,
   "id": "f80d1162",
   "metadata": {},
   "outputs": [],
   "source": [
    "optimization_tools = Tools(\n",
    "    device='cpu' # device to run the optimization on\n",
    ")\n",
    "optimization_tools.compile() # compile the functions for faster runs\n",
    "\n",
    "gradient_tools = DifferentiableTools(\n",
    "    device='cpu' # device to run the optimization on\n",
    ")\n",
    "gradient_tools.compile() # compile the functions for faster runs"
   ]
  },
  {
   "cell_type": "markdown",
   "id": "30e7b715",
   "metadata": {},
   "source": [
    "Let's now see how this mechanism does with target curve 1:"
   ]
  },
  {
   "cell_type": "code",
   "execution_count": null,
   "id": "d48e26b9",
   "metadata": {},
   "outputs": [],
   "source": [
    "distance, material = optimization_tools(x0,\n",
    "                                        edges,\n",
    "                                        fixed_joints,\n",
    "                                        motor,\n",
    "                                        target_curves[0],\n",
    "                                        target_idx=None # if you do not specify a target node index, it will automatically use the most complex joint (the last joint in our case)\n",
    "                                    ) \n",
    "\n",
    "print(f\"Distance to target curve 1: {distance:.4f}\")\n",
    "print(f\"Material used: {material:.4f}\")"
   ]
  },
  {
   "cell_type": "code",
   "execution_count": null,
   "id": "d358a948",
   "metadata": {},
   "outputs": [],
   "source": [
    "distance, material, distance_grad, material_grad = gradient_tools(x0,\n",
    "                                        edges,\n",
    "                                        fixed_joints,\n",
    "                                        motor,\n",
    "                                        target_curves[0],\n",
    "                                        target_idx=None\n",
    "                                    )\n",
    "\n",
    "print(f\"Distance to target curve 1: {distance:.4f}\")\n",
    "print(f\"Material used: {material:.4f}\")\n",
    "print(f\"Distance Gradient:\\n {distance_grad}\\n\")\n",
    "print(f\"Material Gradient:\\n {material_grad}\\n\")"
   ]
  },
  {
   "cell_type": "markdown",
   "id": "99b5d73b",
   "metadata": {},
   "source": [
    "**NOTE:** Both of these classes accept batches of mechanisms for a single target curve. If you pass batches, this will be alot faster, especially running on gpu. In this code to keep things simple we do `ElementwiseProblem` in pymoo, but pymoo supports vectorized problems with the `Problem` class."
   ]
  },
  {
   "cell_type": "markdown",
   "id": "7e0a2b28",
   "metadata": {},
   "source": [
    "Now we will use an approach similar to the demo to define our problem. Note that here we will also add consraints to the problem to remove unacceptable mechanisms (Distance above 0.75 and material more than 10.0):"
   ]
  },
  {
   "cell_type": "code",
   "execution_count": null,
   "id": "bf47408d",
   "metadata": {},
   "outputs": [],
   "source": [
    "# pymoo imports\n",
    "from pymoo.core.problem import ElementwiseProblem, Problem\n",
    "from pymoo.algorithms.moo.nsga2 import NSGA2\n",
    "from pymoo.operators.sampling.rnd import FloatRandomSampling\n",
    "from pymoo.operators.crossover.sbx import SBX\n",
    "from pymoo.operators.mutation.pm import PolynomialMutation\n",
    "from pymoo.optimize import minimize"
   ]
  },
  {
   "cell_type": "code",
   "execution_count": null,
   "id": "bcf9ea0d",
   "metadata": {},
   "outputs": [],
   "source": [
    "PROBLEM_TOOLS = Tools( # we have to define this outside the class due to pymoo deepcopy limitations\n",
    "            device='cpu' # device to run the optimization on\n",
    "        )  \n",
    "PROBLEM_TOOLS.compile() # compile the functions for faster runs\n",
    "\n",
    "class mechanism_Synthesis_optimization(ElementwiseProblem):\n",
    "\n",
    "    # When intializing get the mechanism structure which is being optimized\n",
    "    #(not the initial positions as we are trying to find those)\n",
    "    def __init__(self, edges, fixed_joints, motor, target_curve):\n",
    "\n",
    "        # set the problem paramters(n_var = number of parameters(number of nodes * 2),\n",
    "        # n_obj=number of objectives, xl=lower bound for the parameters, xu=upper bound for the paramters)\n",
    "        super().__init__(n_var = x0.shape[0] * 2, n_obj=2, n_constr=2, xl=0.0, xu=5.0, elementwise_evaluation=True)\n",
    "\n",
    "        # Store mechanism information for later\n",
    "        self.edges = edges\n",
    "        self.fixed_joints = fixed_joints\n",
    "        self.motor = motor\n",
    "        self.N = x0.shape[0]\n",
    "\n",
    "        # Store the target\n",
    "        self.target_curve = target_curve\n",
    "        \n",
    "    def _evaluate(self, x, out, *args, **kwargs):\n",
    "        x0 = np.array(x.reshape([self.N,2]))  #reshape the flattened vector that comes in into 2D array\n",
    "        \n",
    "        # Simulate\n",
    "        distance, material = PROBLEM_TOOLS(x0,\n",
    "                                self.edges,\n",
    "                                self.fixed_joints,\n",
    "                                self.motor,\n",
    "                                self.target_curve,\n",
    "                                target_idx=None # if you do not specify a target node index, it will automatically use the most complex joint (the last joint in our case)\n",
    "                            )\n",
    "\n",
    "        out[\"F\"] = np.array([distance, material])\n",
    "        out[\"G\"] = out[\"F\"] - np.array([0.75, 10.0])  # Constraints: distance <= 0.75, material <= 10.0"
   ]
  },
  {
   "cell_type": "markdown",
   "id": "5638a41b",
   "metadata": {},
   "source": [
    "Now we will run NSGA-II on this problem. Note that the code below replaces the sampling of the algorithm with the initial positions of the pre-defined mechanism. This is an example of population initialization. Becuase this mechanism skeleton is bigger the GA usually struggles to find any valid solutions so this will help start with a better population. This will be discussed in more detail in the advanced notebook. For now let's run this on the first curve:"
   ]
  },
  {
   "cell_type": "code",
   "execution_count": null,
   "id": "ad2a3991",
   "metadata": {},
   "outputs": [],
   "source": [
    "target_index = 0\n",
    "target_curve = np.array(target_curves[target_index])\n",
    "plt.figure(figsize=(5,5))\n",
    "plt.plot(target_curve[:,0],target_curve[:,1], lw=4)\n",
    "plt.axis('equal')\n",
    "plt.axis('off')\n",
    "plt.title(f'Target Curve {target_index + 1}')\n",
    "plt.show()"
   ]
  },
  {
   "cell_type": "code",
   "execution_count": null,
   "id": "7c505f4f",
   "metadata": {},
   "outputs": [],
   "source": [
    "problem = mechanism_Synthesis_optimization(\n",
    "    edges,\n",
    "    fixed_joints,\n",
    "    motor,\n",
    "    target_curve\n",
    ")\n",
    "\n",
    "# Algorith Parameters\n",
    "population_size = 100\n",
    "num_generations = 100\n",
    "\n",
    "# Initialize a population of duplicates\n",
    "X = x0[None].repeat(100, axis=0).reshape(population_size, -1)\n",
    "\n",
    "# Setup the algorithm\n",
    "algorithm = NSGA2(pop_size=population_size,\n",
    "                    sampling=X,\n",
    "                    crossover=SBX(prob=1.0, eta=3.0),\n",
    "                    mutation=PolynomialMutation(eta=3.0, prob=0.05),\n",
    "                    eliminate_duplicates=True)\n",
    "\n",
    "results = minimize(problem,\n",
    "                   algorithm,\n",
    "                   ('n_gen', num_generations),\n",
    "                   verbose=True,\n",
    "                   save_history=True,\n",
    "                   seed=0,\n",
    "                  )"
   ]
  },
  {
   "cell_type": "markdown",
   "id": "5066f80a",
   "metadata": {},
   "source": [
    "Let's visualize the non-dominated solution found by the GA:"
   ]
  },
  {
   "cell_type": "code",
   "execution_count": null,
   "id": "c191ac3d",
   "metadata": {},
   "outputs": [],
   "source": [
    "from LINKS.Visualization import GAVisualizer"
   ]
  },
  {
   "cell_type": "code",
   "execution_count": null,
   "id": "4cf12497",
   "metadata": {},
   "outputs": [],
   "source": [
    "from pymoo.indicators.hv import HV\n",
    "ga_visualizer = GAVisualizer()\n",
    "\n",
    "if not results.X is None:\n",
    "    #Specify reference point\n",
    "    ref_point = np.array([0.75, 10.0])\n",
    "\n",
    "    #Calculate Hypervolume\n",
    "    ind = HV(ref_point)\n",
    "    hypervolume = ind(results.F)\n",
    "\n",
    "    #Print and plot\n",
    "    print('Hyper Volume ~ %f' %(hypervolume))\n",
    "    ga_visualizer.plot_HV(results.F, ref_point, objective_labels=['Distance', 'Material']) #use the plot_HV function from utils\n",
    "else:\n",
    "    print('Did Not Find Solutions!!')"
   ]
  },
  {
   "cell_type": "markdown",
   "id": "dd8e5d3a",
   "metadata": {},
   "source": [
    "Now Let's visualize the best solution for distance"
   ]
  },
  {
   "cell_type": "code",
   "execution_count": null,
   "id": "b1d327b6",
   "metadata": {},
   "outputs": [],
   "source": [
    "if not results.X is None:\n",
    "    if type(results.X)!=dict:\n",
    "        best_idx = np.argmin(results.F[:,0])\n",
    "        best_sol = results.X[best_idx].reshape(-1,2) # get the solution with the lowest distance to target curve (and reshape it)\n",
    "    else:\n",
    "        best_sol = results.X.reshape(-1,2)\n",
    "else:\n",
    "    print('Did Not Find Solutions!!')"
   ]
  },
  {
   "cell_type": "code",
   "execution_count": null,
   "id": "87f373e6",
   "metadata": {},
   "outputs": [],
   "source": [
    "plt.figure(figsize=(8,8))\n",
    "visualizer(best_sol, edges, fixed_joints, motor, ax=plt.gca())\n",
    "\n",
    "traced_curve = solver(best_sol, edges, fixed_joints, motor)[-1]\n",
    "curve_processor.visualize_comparison(\n",
    "    traced_curve,\n",
    "    target_curves[target_index]\n",
    ")\n",
    "\n",
    "print(f'Distance: {results.F[best_idx,0]:.4f}, Material: {results.F[best_idx,1]:.4f}')"
   ]
  },
  {
   "cell_type": "markdown",
   "id": "4f411a61",
   "metadata": {},
   "source": [
    "Now let's visualize the best solution for material"
   ]
  },
  {
   "cell_type": "code",
   "execution_count": null,
   "id": "32e0aed1",
   "metadata": {},
   "outputs": [],
   "source": [
    "if not results.X is None:\n",
    "    if type(results.X)!=dict:\n",
    "        best_idx = np.argmin(results.F[:,1])\n",
    "        best_sol = results.X[best_idx].reshape(-1,2) # get the solution with the lowest distance to target curve (and reshape it)\n",
    "    else:\n",
    "        best_sol = results.X.reshape(-1,2)\n",
    "else:\n",
    "    print('Did Not Find Solutions!!')"
   ]
  },
  {
   "cell_type": "code",
   "execution_count": null,
   "id": "9e1d3440",
   "metadata": {},
   "outputs": [],
   "source": [
    "plt.figure(figsize=(8,8))\n",
    "visualizer(best_sol, edges, fixed_joints, motor, ax=plt.gca())\n",
    "\n",
    "traced_curve = solver(best_sol, edges, fixed_joints, motor)[-1]\n",
    "curve_processor.visualize_comparison(\n",
    "    traced_curve,\n",
    "    target_curves[target_index]\n",
    ")\n",
    "\n",
    "print(f'Distance: {results.F[best_idx,0]:.4f}, Material: {results.F[best_idx,1]:.4f}')"
   ]
  },
  {
   "cell_type": "markdown",
   "id": "78af8c40",
   "metadata": {},
   "source": [
    "### Submission Format\n",
    "We want you to submit a single numpy file which includes your solutions to each of the 6 problems. This numpy file will be a standard python dictionary with following format:\n",
    "\n",
    "```python\n",
    "submission = {\n",
    "    'Problem 1': [\n",
    "        {\n",
    "            'x0': np.ndarray of shape (N, 2),\n",
    "            'edges': np.ndarray of shape (E, 2),\n",
    "            'fixed_joints': np.ndarray of shape (F,),\n",
    "            'motor': np.ndarray of shape (2,),\n",
    "            'target_joint': int index of the target node\n",
    "\n",
    "        },\n",
    "        ...\n",
    "    ]\n",
    "    'Problem 2': [...],\n",
    "    ...\n",
    "    'Problem 6':[...],\n",
    "}\n",
    "```\n",
    "\n",
    "To make things a bit easier for you, we have provided a few helper functions which will create this dictionary for you. Also note that if you do not provide `target_joint`, during evaluation we will automatically pick the most complex joint (highest index) for evaluation, so be careful to include that if your optimizer picked joints. Finally, if any of the problems are not in your submission dictionary or if the list in the dictionary is empty, a hypervolume of 0 will be assigned to that problem. Your final score is the average hypervolume across all 6 problems.\n",
    "\n",
    "Let's use the solution of problem 1 that we just made to make a submission:"
   ]
  },
  {
   "cell_type": "code",
   "execution_count": null,
   "id": "ba8a2291",
   "metadata": {},
   "outputs": [],
   "source": [
    "from LINKS.CP import make_empty_submission, evaluate_submission\n",
    "\n",
    "submission = make_empty_submission()\n",
    "\n",
    "print(\"Empty Submission:\", submission)"
   ]
  },
  {
   "cell_type": "code",
   "execution_count": null,
   "id": "5f271567",
   "metadata": {},
   "outputs": [],
   "source": [
    "# add out population to submission\n",
    "if not results.X is None:\n",
    "    for i in range(results.X.shape[0]):\n",
    "        x0_member = results.X[i].reshape(-1,2)\n",
    "        \n",
    "        mech = {\n",
    "            'x0': x0_member,\n",
    "            'edges': edges,\n",
    "            'fixed_joints': fixed_joints,\n",
    "            'motor': motor,\n",
    "            'target_joint': None # None means it will automatically use the most complex joint (the last joint in our case)\n",
    "        }\n",
    "        \n",
    "        submission['Problem 1'].append(mech)"
   ]
  },
  {
   "cell_type": "markdown",
   "id": "2e80aaa3",
   "metadata": {},
   "source": [
    "Now let's get our score:"
   ]
  },
  {
   "cell_type": "code",
   "execution_count": null,
   "id": "959412a4",
   "metadata": {},
   "outputs": [],
   "source": [
    "evaluate_submission(submission)"
   ]
  },
  {
   "cell_type": "markdown",
   "id": "e29c02a0",
   "metadata": {},
   "source": [
    "We can also visualize the non-dominated samples in the submission population (it will take a while since we have alot of samples to visualize):"
   ]
  },
  {
   "cell_type": "code",
   "execution_count": null,
   "id": "ad918ba3",
   "metadata": {},
   "outputs": [],
   "source": [
    "ga_visualizer.plot_pareto_efficient(\n",
    "    F=results.F,\n",
    "    population=submission['Problem 1'],\n",
    "    target_curve=target_curve,\n",
    "    objective_labels=['Distance', 'Material']\n",
    ")"
   ]
  },
  {
   "cell_type": "markdown",
   "id": "5f0c4c34",
   "metadata": {},
   "source": [
    "In your submission we expect a single numpy file. Below is some code to save this submission as a numpy file:"
   ]
  },
  {
   "cell_type": "code",
   "execution_count": null,
   "id": "c5102c33",
   "metadata": {},
   "outputs": [],
   "source": [
    "np.save('my_submission.npy', submission) # This will save your submission in the current directory"
   ]
  },
  {
   "cell_type": "markdown",
   "id": "3216e4d7",
   "metadata": {},
   "source": [
    "You can call the `evaluate_submission` functions with file paths too:"
   ]
  },
  {
   "cell_type": "code",
   "execution_count": null,
   "id": "30e834ff",
   "metadata": {},
   "outputs": [],
   "source": [
    "evaluate_submission(\n",
    "    submission='my_submission.npy',\n",
    "    target_curves='target_curves.npy'\n",
    ")"
   ]
  },
  {
   "cell_type": "markdown",
   "id": "8a1ff122",
   "metadata": {},
   "source": [
    "When you are submitting to the scoreboard you will need to upload the submission numpy file."
   ]
  },
  {
   "cell_type": "markdown",
   "id": "c105547a",
   "metadata": {},
   "source": [
    "### Let's get a full submission going\n",
    "Now we will run the GA for each target curve seperately and get a full submission going:"
   ]
  },
  {
   "cell_type": "code",
   "execution_count": null,
   "id": "91ae887c",
   "metadata": {},
   "outputs": [],
   "source": [
    "submission = make_empty_submission()\n",
    "full_results = submission.copy()\n",
    "\n",
    "population_size = 200\n",
    "num_generations = 50\n",
    "\n",
    "for i in range(len(target_curves)):\n",
    "    \n",
    "    print(f\"Optimizing for Problem {i+1}, Please Wait...\")\n",
    "    \n",
    "    problem = mechanism_Synthesis_optimization(\n",
    "        edges,\n",
    "        fixed_joints,\n",
    "        motor,\n",
    "        target_curves[i]\n",
    "    )\n",
    "    \n",
    "    X = x0[None].repeat(population_size, axis=0).reshape(population_size, -1)\n",
    "    # Setup the algorithm\n",
    "    algorithm = NSGA2(pop_size=population_size,\n",
    "                        sampling=X,\n",
    "                        crossover=SBX(prob=1.0, eta=3.0),\n",
    "                        mutation=PolynomialMutation(eta=3.0, prob=0.9),\n",
    "                        eliminate_duplicates=True)\n",
    "\n",
    "    results = minimize(problem,\n",
    "                    algorithm,\n",
    "                    ('n_gen', num_generations),\n",
    "                    verbose=False,\n",
    "                    save_history=True,\n",
    "                    seed=123,\n",
    "                    )\n",
    "    \n",
    "    if results.X is None:\n",
    "        print('Did Not Find Solutions!!')\n",
    "    else:\n",
    "        for j in range(results.X.shape[0]):\n",
    "            x0_member = results.X[j].reshape(-1,2)\n",
    "            \n",
    "            mech = {\n",
    "                'x0': x0_member,\n",
    "                'edges': edges,\n",
    "                'fixed_joints': fixed_joints,\n",
    "                'motor': motor,\n",
    "                'target_joint': None # None means it will automatically use the most complex joint (the last joint in our case)\n",
    "            }\n",
    "\n",
    "            submission[f'Problem {i+1}'].append(mech)\n",
    "            full_results[f'Problem {i+1}'] = results\n",
    "\n",
    "\n",
    "# now let's evaluate the pareto efficient solutions for all problems\n",
    "plt.subplots(2, 3, figsize=(15, 10))\n",
    "for i in range(len(target_curves)):\n",
    "    if isinstance(full_results[f'Problem {i+1}'], list) or full_results[f'Problem {i+1}'].X is None:\n",
    "        print(f'Did Not Find Solutions for Problem {i+1}!!')\n",
    "        plt.subplot(2, 3, i+1)\n",
    "        plt.text(0.5, 0.5, 'No Solutions Found', horizontalalignment='center', verticalalignment='center', fontsize=12)\n",
    "        plt.axis('off')\n",
    "        continue\n",
    "    ga_visualizer.plot_HV(\n",
    "        F=full_results[f'Problem {i+1}'].F,\n",
    "        ref=np.array([0.75, 10.0]),\n",
    "        ax=plt.subplot(2, 3, i+1),\n",
    "        objective_labels=['Distance', 'Material']\n",
    "    )\n",
    "    plt.title(f'Problem {i+1} Hypervolume')"
   ]
  },
  {
   "cell_type": "code",
   "execution_count": null,
   "id": "7d690698",
   "metadata": {},
   "outputs": [],
   "source": [
    "evaluate_submission(submission)"
   ]
  },
  {
   "cell_type": "markdown",
   "id": "b27ba7e5",
   "metadata": {},
   "source": [
    "Now we can save this submission and submit it to the leader board."
   ]
  },
  {
   "cell_type": "code",
   "execution_count": null,
   "id": "fe22f13e",
   "metadata": {},
   "outputs": [],
   "source": [
    "np.save('my_full_submission.npy', submission) # This will save your submission in the current directory"
   ]
  },
  {
   "cell_type": "markdown",
   "id": "6c209ac6",
   "metadata": {},
   "source": [
    "<H1>Leader Board: </H1>\n",
    "You can submit your numpy files to the leaderboard and see how you are doing compared to others. \n",
    "The leaderboard can be found at:\n",
    "\n",
    "[https://design-ai.mit.edu/CP1/](https://design-ai.mit.edu/CP1/)"
   ]
  }
 ],
 "metadata": {
  "kernelspec": {
   "display_name": "challenge1",
   "language": "python",
   "name": "python3"
  },
  "language_info": {
   "codemirror_mode": {
    "name": "ipython",
    "version": 3
   },
   "file_extension": ".py",
   "mimetype": "text/x-python",
   "name": "python",
   "nbconvert_exporter": "python",
   "pygments_lexer": "ipython3",
   "version": "3.11.13"
  }
 },
 "nbformat": 4,
 "nbformat_minor": 5
}
